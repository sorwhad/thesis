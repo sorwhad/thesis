{
 "cells": [
  {
   "cell_type": "code",
   "execution_count": 1,
   "metadata": {},
   "outputs": [],
   "source": [
    "import QCircuit\n",
    "from QCircuit import * \n",
    "import sympy \n",
    "import matplotlib.pyplot as plt \n",
    "import scipy as sp "
   ]
  },
  {
   "cell_type": "code",
   "execution_count": 2,
   "metadata": {},
   "outputs": [],
   "source": [
    "import qutip  "
   ]
  },
  {
   "cell_type": "code",
   "execution_count": 3,
   "metadata": {},
   "outputs": [],
   "source": [
    "from matplotlib import pyplot as plt\n",
    "%matplotlib inline \n",
    "import numpy as np\n",
    "import qutip \n",
    "from tqdm import tqdm\n",
    "import seaborn as sns\n",
    "from matplotlib import colors\n"
   ]
  },
  {
   "cell_type": "code",
   "execution_count": 4,
   "metadata": {},
   "outputs": [],
   "source": [
    "%config InlineBackend.figure_format = 'retina'"
   ]
  },
  {
   "cell_type": "markdown",
   "metadata": {},
   "source": [
    "## Что происходит?\n",
    "Происходит диагонализация гамильтониана системы из 1 кубита (флаксониума) и резонатора. \n",
    "Итоговая цель нотебука -- показать, что в такой системе матричный элемент \n",
    "\n",
    "\\begin{equation} \n",
    "\\langle q=0, r=0|U^\\dagger Q_q U  |q=0, r=1 \\rangle \n",
    "\\end{equation}\n",
    "\n",
    "Отличается от матричного элемента: \n",
    "\n",
    "\\begin{equation} \n",
    "\\langle q=1, r=0|U^\\dagger Q_q U  |q=1, r=1 \\rangle\n",
    "\\end{equation}\n",
    "\n",
    "\n"
   ]
  },
  {
   "cell_type": "markdown",
   "metadata": {},
   "source": [
    "# Часть 1: диагонализация $H_{sys} = H_Q + H_R + V$"
   ]
  },
  {
   "cell_type": "markdown",
   "metadata": {},
   "source": [
    "## Моя реализация "
   ]
  },
  {
   "cell_type": "markdown",
   "metadata": {},
   "source": [
    "Диагонализация единичного флаксониума"
   ]
  },
  {
   "cell_type": "code",
   "execution_count": 2,
   "metadata": {},
   "outputs": [
    {
     "name": "stdout",
     "output_type": "stream",
     "text": [
      "All the psi_n(x) are normalized.\n"
     ]
    },
    {
     "data": {
      "image/png": "[encoded data removed]",
      "text/plain": [
       "<Figure size 720x504 with 1 Axes>"
      ]
     },
     "metadata": {
      "needs_background": "light"
     },
     "output_type": "display_data"
    }
   ],
   "source": [
    "\n",
    "\n",
    "\n",
    "N = 1000\n",
    "a = 100\n",
    "x = np.linspace(-a/2.,a/2.,N)\n",
    "h = x[1] - x[0]\n",
    "\n",
    "Ec = 1\n",
    "Ej = 1\n",
    "El = 5\n",
    "phi_e = np.pi\n",
    "\n",
    "V = El / 2 * x*x - Ej*np.cos(2*np.pi*x-phi_e)\n",
    "\n",
    "\n",
    "Mdd = 1./(h*h)*(np.diag(np.ones(N-1),-1) - 2*np.diag(np.ones(N),0) + np.diag(np.ones(N-1),1))\n",
    "\n",
    "H = -4*Ec * Mdd + np.diag(V) \n",
    "\n",
    "En,psiT = np.linalg.eigh(H) \n",
    "En = En / 0.7056583597419407 \n",
    "psi = np.transpose(psiT) \n",
    "\n",
    "\n",
    "\n",
    "notok = False\n",
    "for n in range(len(psi)):\n",
    "    # s = np.sum(psi[n]*psi[n])\n",
    "    s = np.linalg.norm(psi[n])  \n",
    "    if np.abs(s - 1) > 0.00001: \n",
    "        print(\"Wave function {} is not normalized to 1 but {}\".format(n,s))\n",
    "        notok=True\n",
    "\n",
    "if not notok:\n",
    "    print(\"All the psi_n(x) are normalized.\")\n",
    "\n",
    "fig2 = plt.figure(figsize=[10,7])\n",
    "\n",
    "plt.ylabel('$\\psi(x)$')\n",
    "plt.xlabel('$x$')\n",
    "# plt.plot([0,0],[-6,V[0]],color=\"blue\")\n",
    "# plt.plot([-a/2.,a/2.],[0,0],color=\"blue\")\n",
    "plt.grid() \n",
    "\n",
    "plt.plot(x, V,color=\"black\",label=\"V(x)\")\n",
    "\n",
    "lim = 20\n",
    "\n",
    "\n",
    "plt.ylim((-5, lim)) \n",
    "plt.xlim((-10., 10.))\n",
    "\n",
    "\n",
    "M = 10 \n",
    "for i in range(0,5):\n",
    "    if psi[i][N//8] < 0:\n",
    "        plt.plot(x, En[i] - 0.25 * M * psi[i]/np.sqrt(h),label=\"$E_{}$={}\".format(i,En[i]), linestyle='--')\n",
    "    else:\n",
    "        plt.plot(x, En[i] + 0.25 * M * psi[i]/np.sqrt(h),label=\"$E_{}$={:3.1f}\".format(i,En[i]), linestyle='--')\n",
    "\n",
    "\n",
    "plt.legend()\n",
    "\n",
    "for each in En:\n",
    "    plt.axhline(y=each, color='r', linestyle='-')\n",
    "\n",
    "plt.show() \n"
   ]
  },
  {
   "cell_type": "markdown",
   "metadata": {},
   "source": [
    "## На основе готового нотебука "
   ]
  },
  {
   "cell_type": "code",
   "execution_count": 6,
   "metadata": {},
   "outputs": [
    {
     "data": {
      "text/latex": [
       "$\\displaystyle \\left[\\begin{matrix}\\frac{C_{g} + C_{r}}{C_{g} C_{q} + C_{g} C_{r} + C_{q} C_{r}} & \\frac{C_{g}}{C_{g} C_{q} + C_{g} C_{r} + C_{q} C_{r}}\\\\\\frac{C_{g}}{C_{g} C_{q} + C_{g} C_{r} + C_{q} C_{r}} & \\frac{C_{g} + C_{q}}{C_{g} C_{q} + C_{g} C_{r} + C_{q} C_{r}}\\end{matrix}\\right]$"
      ],
      "text/plain": [
       "Matrix([\n",
       "[(C_g + C_r)/(C_g*C_q + C_g*C_r + C_q*C_r),         C_g/(C_g*C_q + C_g*C_r + C_q*C_r)],\n",
       "[        C_g/(C_g*C_q + C_g*C_r + C_q*C_r), (C_g + C_q)/(C_g*C_q + C_g*C_r + C_q*C_r)]])"
      ]
     },
     "execution_count": 6,
     "metadata": {},
     "output_type": "execute_result"
    }
   ],
   "source": [
    "C_q, C_g, C_r = sympy.symbols('C_q, C_g, C_r', positive=True, real=True)\n",
    "\n",
    "C = sympy.Matrix([[C_q + C_g, -C_g],\n",
    "                  [-C_g, C_r + C_g]])\n",
    "\n",
    "C_inv = sympy.simplify(C.inv())\n",
    "C_inv "
   ]
  },
  {
   "cell_type": "code",
   "execution_count": 7,
   "metadata": {},
   "outputs": [],
   "source": [
    "def calculate_fluxonium(EJ, EC, EL, φx_value, num_points=128, periods=4, num_states=8, seed=None):\n",
    "    fluxonium = QCircuit()\n",
    "    fluxonium.add_element(QCapacitance('C'), ['GND', '1'])\n",
    "    fluxonium.add_element(QJosephsonJunction('JJ'), ['GND', '1'])\n",
    "    fluxonium.add_element(QInductance('L'), ['1', '2'])\n",
    "\n",
    "    φ = QVariable('φ')\n",
    "    φx = QVariable('φx')\n",
    "    fluxonium.add_variable(φ)\n",
    "    fluxonium.add_variable(φx)\n",
    "\n",
    "    fluxonium.map_nodes_linear(node_names = ['GND', '1', '2'], \n",
    "                               variable_names = ['φ', 'φx'],\n",
    "                               coefficients = np.asarray([[ 0, 0 ],\n",
    "                                                          [ 1, 0 ],\n",
    "                                                          [ 0, 1 ]]))\n",
    "    \n",
    "    φ.create_grid(num_points, periods)\n",
    "    φx.set_parameter(phase_value=φx_value, voltage_value=0)\n",
    "    \n",
    "    fluxonium.find_element('L').set_inductance(1/(2*EL))\n",
    "    fluxonium.find_element('JJ').set_critical_current(EJ)\n",
    "    fluxonium.find_element('C').set_capacitance(1/(8*EC))\n",
    "    \n",
    "    fluxonium.calculate_potentials()\n",
    "    energies, wavefunctions = fluxonium.diagonalize_phase(num_states=num_states)\n",
    "    if seed is not None:\n",
    "        wavefunctions *= np.exp(1j*np.angle(np.sum(np.conj(wavefunctions)*seed, \n",
    "                                                   axis=tuple(np.arange(len(wavefunctions.shape)-1)))))\n",
    "    else:\n",
    "        for state_id in range(num_states):\n",
    "            wavefunction = wavefunctions[..., state_id]\n",
    "            wavefunction *= np.exp(-1j*np.angle(wavefunction[np.argmax(np.abs(wavefunction))]))\n",
    "            wavefunctions[..., state_id] = wavefunction\n",
    "    \n",
    "    wavefunctions_charge = np.fft.fftshift(np.fft.fft(np.fft.fftshift(wavefunctions, \n",
    "                                                                     axes=0), \n",
    "                                                     norm='ortho', axis=0)\n",
    "                                          , axes=0)\n",
    "    N = np.einsum('ij,i,ik->jk', \n",
    "                    np.conj(wavefunctions_charge[:,0,:]), \n",
    "                    φ.get_charge_grid(),\n",
    "                    wavefunctions_charge[:,0,:])\n",
    "    \n",
    "\n",
    "    return energies, N, wavefunctions"
   ]
  },
  {
   "cell_type": "code",
   "execution_count": 8,
   "metadata": {},
   "outputs": [],
   "source": [
    "from scipy.constants import h, e  "
   ]
  },
  {
   "cell_type": "code",
   "execution_count": 9,
   "metadata": {},
   "outputs": [],
   "source": [
    "def circuit_hamiltonian(Cq, Cg, Cr, EJ, ELq, ELr, φx, nq, nr, \n",
    "                        seed_q=None, seed_r=None):\n",
    "    \"\"\"\n",
    "    \n",
    "    nq -- число состояний кубита \n",
    "    nr -- число состояний резонатора \n",
    "    φx -- поток, измеряется в радианах\n",
    "    \"\"\"\n",
    "    \n",
    "    csubs = {C_q:Cq, C_g:Cg, C_r:Cr} \n",
    "    \n",
    "    ECq = C_inv[0, 0].evalf(6, csubs) * e**2 / (2 * h)\n",
    "    ECr = C_inv[1, 1].evalf(6, csubs) * e**2 / (2 * h) \n",
    "    \n",
    "    Eq, Nq, seed_q = calculate_fluxonium(EJ, ECq, ELq, φx, num_states=nq, seed=seed_q)\n",
    "    Er, Nr, seed_r = calculate_fluxonium( 0, ECr, ELr,  0, num_states=nr, seed=seed_r)\n",
    "    \n",
    "    \n",
    "    Hq_ = qutip.Qobj(np.diag(Eq-np.min(Eq)), dims=[[nq], [nq]])\n",
    "    Hr_ = qutip.Qobj(np.diag(Er-np.min(Er)), dims=[[nr], [nr]])\n",
    "    \n",
    "    Nq_ = qutip.Qobj(Nq, dims=[[nq], [nq]])\n",
    "    Nr_ = qutip.Qobj(Nr, dims=[[nr], [nr]])\n",
    "    \n",
    "    \n",
    "    Hq = qutip.tensor(Hq_, qutip.identity(nr))\n",
    "    Hr = qutip.tensor(qutip.identity(nq), Hr_)\n",
    "    \n",
    "    Nq = qutip.tensor(Nq_, qutip.identity(nr))\n",
    "    Nr = qutip.tensor(qutip.identity(nq), Nr_)\n",
    "    \n",
    "    H0 = Hq + Hr  \n",
    "    \n",
    "\n",
    "    V =  float(C_inv[0, 1].evalf(6, csubs) * (2*e)**2 / h)  * Nq * Nr \n",
    "    \n",
    "    V.dims = H0.dims\n",
    "    \n",
    "    H = H0 + V \n",
    "    \n",
    "    \n",
    "    return H, seed_q, seed_r \n",
    "    \n",
    "    \n",
    "    "
   ]
  },
  {
   "cell_type": "code",
   "execution_count": 137,
   "metadata": {},
   "outputs": [],
   "source": [
    "Cq  = 60e-6\n",
    "Cg  = 15e-6\n",
    "Cr  = 250e-6\n",
    "\n",
    "EJ  = 2.3\n",
    "ELq = 1.1/2\n",
    "ELr = 2.5\n",
    "\n",
    "φx  = np.pi\n",
    "nq  = 2 \n",
    "nr  = 2 "
   ]
  },
  {
   "cell_type": "code",
   "execution_count": 138,
   "metadata": {},
   "outputs": [],
   "source": [
    "φx_range = np.linspace(0, 2*np.pi, 201)\n",
    "energies = np.zeros((len(φx_range), nq*nr)) * np.nan\n",
    "energies_raw = np.zeros((len(φx_range), nq*nr)) * np.nan\n",
    "\n"
   ]
  },
  {
   "cell_type": "code",
   "execution_count": 139,
   "metadata": {
    "scrolled": true
   },
   "outputs": [
    {
     "name": "stderr",
     "output_type": "stream",
     "text": [
      "100%|██████████| 201/201 [00:37<00:00,  5.31it/s]\n"
     ]
    }
   ],
   "source": [
    "Hamiltonians = []\n",
    "\n",
    "\n",
    "\n",
    "for φx_id, φx_value in enumerate(tqdm(φx_range)):\n",
    "    \n",
    "\n",
    "    H, seed_q, seed_r = circuit_hamiltonian(\n",
    "                        Cq=Cq, \n",
    "                        Cg=Cg, \n",
    "                        Cr=Cr, \n",
    "                        EJ=EJ, \n",
    "                        ELq=ELq, \n",
    "                        ELr=ELr, \n",
    "                        φx=φx_value, \n",
    "                        nq=nq, \n",
    "                        nr=nr)\n",
    "\n",
    "    \n",
    "    E = H.eigenenergies()\n",
    "    Hamiltonians.append(np.real(np.asarray(H)).astype(float))\n",
    "    energies[φx_id, :] = E\n",
    "    energies_raw[φx_id,:] = sorted(np.real(np.diag(H)))\n",
    "\n",
    "    \n",
    "    \n",
    "\n",
    "    \n",
    "        "
   ]
  },
  {
   "cell_type": "markdown",
   "metadata": {},
   "source": [
    "## \\begin(TEST)"
   ]
  },
  {
   "cell_type": "code",
   "execution_count": 454,
   "metadata": {},
   "outputs": [
    {
     "name": "stderr",
     "output_type": "stream",
     "text": [
      "100%|██████████| 201/201 [00:32<00:00,  6.20it/s]\n"
     ]
    }
   ],
   "source": [
    "Hamiltonians = []\n",
    "\n",
    "denote = None \n",
    "\n",
    "for φx_id, φx_value in enumerate(tqdm(φx_range)):\n",
    "    \n",
    "\n",
    "    H, seed_q, seed_r = circuit_hamiltonian(\n",
    "                        Cq=Cq, \n",
    "                        Cg=Cg, \n",
    "                        Cr=Cr, \n",
    "                        EJ=EJ, \n",
    "                        ELq=ELq, \n",
    "                        ELr=ELr, \n",
    "                        φx=φx_value, \n",
    "                        nq=nq, \n",
    "                        nr=nr)\n",
    "\n",
    "    \n",
    "    E = H.eigenenergies()\n",
    "    Hamiltonians.append(np.real(np.asarray(H)).astype(float))\n",
    "    energies[φx_id, :] = E\n",
    "    energies_ordered = np.real(np.diag(H))\n",
    "    \n",
    "    \n",
    "    indices_sorted = np.argsort(energies_ordered)\n",
    "    \n",
    "    energies_raw[φx_id, :] = sorted(energies_ordered)\n",
    "    \n",
    "    \n",
    "    if φx_id == 100:\n",
    "        denote = indices_sorted\n",
    "    \n",
    "    \n",
    "    \n",
    "\n",
    "    \n",
    "    "
   ]
  },
  {
   "cell_type": "code",
   "execution_count": 458,
   "metadata": {},
   "outputs": [],
   "source": [
    "\n",
    "\n",
    "\n",
    "\n",
    "\n",
    "energies_ordered = np.real(np.diag(H))\n",
    "denote = None    \n",
    "    \n",
    "indices_sorted = np.argsort(energies_ordered)\n",
    "\n",
    "energies_raw[φx_id,:] = sorted(energies_ordered)\n",
    "\n",
    "\n",
    "denote = indices_sorted"
   ]
  },
  {
   "cell_type": "code",
   "execution_count": 462,
   "metadata": {},
   "outputs": [
    {
     "data": {
      "text/latex": [
       "Quantum object: dims = [[3, 2], [3, 2]], shape = (6, 6), type = oper, isherm = True\\begin{equation*}\\left(\\begin{array}{*{11}c}0.0 & 0.0 & 0.0 & -0.005 & 0.0 & 0.0\\\\0.0 & 1.720 & 0.005 & 0.0 & 0.0 & 0.0\\\\0.0 & 0.005 & 0.345 & 0.0 & 0.0 & 0.013\\\\-0.005 & 0.0 & 0.0 & 2.065 & -0.013 & 0.0\\\\0.0 & 0.0 & 0.0 & -0.013 & 1.551 & 0.0\\\\0.0 & 0.0 & 0.013 & 0.0 & 0.0 & 3.270\\\\\\end{array}\\right)\\end{equation*}"
      ],
      "text/plain": [
       "Quantum object: dims = [[3, 2], [3, 2]], shape = (6, 6), type = oper, isherm = True\n",
       "Qobj data =\n",
       "[[ 0.          0.          0.         -0.00460317  0.          0.        ]\n",
       " [ 0.          1.71967641  0.00460317  0.          0.          0.        ]\n",
       " [ 0.          0.00460317  0.34547359  0.          0.          0.01260589]\n",
       " [-0.00460317  0.          0.          2.06515    -0.01260589  0.        ]\n",
       " [ 0.          0.          0.         -0.01260589  1.55058337  0.        ]\n",
       " [ 0.          0.          0.01260589  0.          0.          3.27025979]]"
      ]
     },
     "execution_count": 462,
     "metadata": {},
     "output_type": "execute_result"
    }
   ],
   "source": [
    "H, seed_q, seed_r = circuit_hamiltonian( \n",
    "                        Cq=Cq, \n",
    "                        Cg=Cg, \n",
    "                        Cr=Cr, \n",
    "                        EJ=EJ, \n",
    "                        ELq=ELq, \n",
    "                        ELr=ELr, \n",
    "                        φx=np.pi, \n",
    "                        nq=nq, \n",
    "                        nr=nr)\n",
    "\n",
    "H"
   ]
  },
  {
   "cell_type": "code",
   "execution_count": 459,
   "metadata": {},
   "outputs": [
    {
     "data": {
      "text/plain": [
       "array([0, 1, 2, 3, 4, 5])"
      ]
     },
     "execution_count": 459,
     "metadata": {},
     "output_type": "execute_result"
    }
   ],
   "source": [
    "denote"
   ]
  },
  {
   "cell_type": "code",
   "execution_count": null,
   "metadata": {},
   "outputs": [],
   "source": []
  },
  {
   "cell_type": "code",
   "execution_count": 450,
   "metadata": {},
   "outputs": [
    {
     "data": {
      "text/plain": [
       "'\\\\alpha, 1'"
      ]
     },
     "execution_count": 450,
     "metadata": {},
     "output_type": "execute_result"
    }
   ],
   "source": []
  },
  {
   "cell_type": "code",
   "execution_count": 358,
   "metadata": {},
   "outputs": [
    {
     "data": {
      "text/plain": [
       "array([-2.87425319e-03,  4.16830397e+00,  4.80852100e+00,  6.49691815e+00,\n",
       "        2.49263395e+00,  1.70407503e+00])"
      ]
     },
     "execution_count": 358,
     "metadata": {},
     "output_type": "execute_result"
    }
   ],
   "source": [
    "np.linalg.eigvals(np.real(H))"
   ]
  },
  {
   "cell_type": "code",
   "execution_count": 363,
   "metadata": {},
   "outputs": [
    {
     "data": {
      "text/plain": [
       "array([ 1., -1.,  2.])"
      ]
     },
     "execution_count": 363,
     "metadata": {},
     "output_type": "execute_result"
    }
   ],
   "source": [
    "np.linalg.eigvals(np.array([[0, 1, 0],\n",
    "                           [1, 0, 0],\n",
    "                           [0, 0, 2]]))"
   ]
  },
  {
   "cell_type": "code",
   "execution_count": 364,
   "metadata": {},
   "outputs": [
    {
     "data": {
      "text/plain": [
       "array([ 1., -1.])"
      ]
     },
     "execution_count": 364,
     "metadata": {},
     "output_type": "execute_result"
    }
   ],
   "source": [
    "np.linalg.eigvals(np.array([[0, 1],\n",
    "                           [1, 0]]))"
   ]
  },
  {
   "cell_type": "code",
   "execution_count": 361,
   "metadata": {},
   "outputs": [
    {
     "data": {
      "text/plain": [
       "array([[1, 0],\n",
       "       [0, 2]])"
      ]
     },
     "execution_count": 361,
     "metadata": {},
     "output_type": "execute_result"
    }
   ],
   "source": [
    "np.diag([1, 2])"
   ]
  },
  {
   "cell_type": "code",
   "execution_count": null,
   "metadata": {},
   "outputs": [],
   "source": []
  },
  {
   "cell_type": "code",
   "execution_count": 355,
   "metadata": {},
   "outputs": [
    {
     "data": {
      "text/plain": [
       "array([-2.87425319e-03,  1.70407503e+00,  2.49263395e+00,  4.16830397e+00,\n",
       "        4.80852100e+00,  6.49691815e+00])"
      ]
     },
     "execution_count": 355,
     "metadata": {},
     "output_type": "execute_result"
    }
   ],
   "source": [
    "H.eigenenergies()\n"
   ]
  },
  {
   "cell_type": "code",
   "execution_count": 403,
   "metadata": {},
   "outputs": [],
   "source": [
    "eigval, eigvec = np.linalg.eigh(np.real(H))"
   ]
  },
  {
   "cell_type": "code",
   "execution_count": 405,
   "metadata": {},
   "outputs": [
    {
     "data": {
      "text/plain": [
       "array([ 9.99994659e-01,  7.14047913e-19,  2.87744422e-20, -3.26710789e-03,\n",
       "        9.40498621e-05, -2.55559107e-23])"
      ]
     },
     "execution_count": 405,
     "metadata": {},
     "output_type": "execute_result"
    }
   ],
   "source": [
    "eigvec[0]"
   ]
  },
  {
   "cell_type": "markdown",
   "metadata": {},
   "source": [
    "Построим волновые функции нашей возмущенной системы:"
   ]
  },
  {
   "cell_type": "code",
   "execution_count": 443,
   "metadata": {},
   "outputs": [
    {
     "data": {
      "text/plain": [
       "<matplotlib.axes._subplots.AxesSubplot at 0x7fd691ea8710>"
      ]
     },
     "execution_count": 443,
     "metadata": {},
     "output_type": "execute_result"
    },
    {
     "data": {
      "image/png": "[encoded data removed]",
      "text/plain": [
       "<Figure size 648x504 with 2 Axes>"
      ]
     },
     "metadata": {
      "image/png": {
       "height": 413,
       "width": 499
      },
      "needs_background": "light"
     },
     "output_type": "display_data"
    }
   ],
   "source": [
    "fig = plt.figure(figsize=(9, 7))\n",
    "ax  = fig.add_subplot(111) \n",
    "\n",
    "data = np.vstack([np.zeros(6), eigvec[1]])\n",
    "sns.heatmap(data, annot=True,  linewidths=.5)"
   ]
  },
  {
   "cell_type": "markdown",
   "metadata": {},
   "source": [
    "**Вывод из блока сверху:**\n",
    "\n",
    "Волновая функция в дисперсионном режиме слабо отличается вдали от антикроссинга от волновой функции невозмущенной системы $\\hat{H} = \\hat{H_q}\\otimes \\hat{1} + \\hat{1} \\otimes \\hat{H_r}$"
   ]
  },
  {
   "cell_type": "code",
   "execution_count": 442,
   "metadata": {},
   "outputs": [
    {
     "data": {
      "text/plain": [
       "array([-4.33680869e-19,  9.99838049e-01,  1.79965301e-02,  1.11022302e-16,\n",
       "        0.00000000e+00, -1.33814541e-05])"
      ]
     },
     "execution_count": 442,
     "metadata": {},
     "output_type": "execute_result"
    }
   ],
   "source": [
    "eigvec[1]"
   ]
  },
  {
   "cell_type": "markdown",
   "metadata": {},
   "source": [
    "\n",
    "$|q\\rangle \\otimes |r\\rangle$"
   ]
  },
  {
   "cell_type": "code",
   "execution_count": null,
   "metadata": {},
   "outputs": [],
   "source": []
  },
  {
   "cell_type": "markdown",
   "metadata": {},
   "source": [
    "## \\end(TEST)"
   ]
  },
  {
   "cell_type": "markdown",
   "metadata": {},
   "source": [
    "### Finally: диаграмма уровней $E_n(\\phi)$"
   ]
  },
  {
   "cell_type": "markdown",
   "metadata": {},
   "source": [
    "### не антикро$$инг"
   ]
  },
  {
   "cell_type": "code",
   "execution_count": 140,
   "metadata": {},
   "outputs": [
    {
     "data": {
      "text/plain": [
       "Text(0,0.5,'E, GHz')"
      ]
     },
     "execution_count": 140,
     "metadata": {},
     "output_type": "execute_result"
    },
    {
     "data": {
      "image/png": "[encoded data removed]",
      "text/plain": [
       "<Figure size 648x504 with 1 Axes>"
      ]
     },
     "metadata": {
      "image/png": {
       "height": 437,
       "width": 545
      },
      "needs_background": "light"
     },
     "output_type": "display_data"
    }
   ],
   "source": [
    "fig = plt.figure(figsize=(9, 7))\n",
    "ax  = fig.add_subplot(111) \n",
    "\n",
    "x_label = [r\"$0$\", r\"$\\frac{\\pi}{2}$\", r\"$\\pi$\", r\"$\\frac{3\\pi}{2}$\",   r\"$2\\pi$\"]\n",
    "x_tick = np.array([0, 0.5, 1, 1.5, 2])\n",
    "\n",
    "ax.set_xticks(x_tick*np.pi)\n",
    "ax.set_xticklabels(x_label, fontsize=12)\n",
    "\n",
    "for i in range(nq*nr):\n",
    "    plt.plot(φx_range, energies_raw[:, i], label=i)\n",
    "\n",
    "    \n",
    "plt.legend()\n",
    "\n",
    "plt.xlabel(\"$\\phi$\")\n",
    "plt.ylabel(\"E, GHz\")"
   ]
  },
  {
   "cell_type": "markdown",
   "metadata": {},
   "source": [
    "###  антикро$$инг"
   ]
  },
  {
   "cell_type": "code",
   "execution_count": 142,
   "metadata": {},
   "outputs": [
    {
     "data": {
      "text/plain": [
       "Text(0,0.5,'E, GHz')"
      ]
     },
     "execution_count": 142,
     "metadata": {},
     "output_type": "execute_result"
    },
    {
     "data": {
      "image/png": "[encoded data removed]",
      "text/plain": [
       "<Figure size 648x504 with 1 Axes>"
      ]
     },
     "metadata": {
      "image/png": {
       "height": 464,
       "width": 550
      },
      "needs_background": "light"
     },
     "output_type": "display_data"
    }
   ],
   "source": [
    "fig = plt.figure(figsize=(9, 7))\n",
    "ax  = fig.add_subplot(111) \n",
    "\n",
    "x_label = [r\"$0$\", r\"$\\frac{\\pi}{2}$\", r\"$\\pi$\", r\"$\\frac{3\\pi}{2}$\",   r\"$2\\pi$\"]\n",
    "x_tick = np.array([0, 0.5, 1, 1.5, 2])\n",
    "\n",
    "ax.set_xticks(x_tick*np.pi)\n",
    "ax.set_xticklabels(x_label, fontsize=20)\n",
    "\n",
    "for i in range(nq*nr):\n",
    "    ax.plot(φx_range, energies[:, i], label=i)\n",
    "    \n",
    "    tex = r'$|{}\\rangle_q \\otimes |{}\\rangle_r$'.format(i //  nr, i % nr)\n",
    "    mpl_grey_rvb = (51. / 255., 51. / 255., 51. / 255.)\n",
    "    ax.annotate(tex, xy=(0, energies[:, i][0] + 0.2), fontsize=15, color=mpl_grey_rvb)\n",
    "\n",
    "\n",
    "\n",
    "\n",
    "\n",
    "plt.legend()\n",
    "plt.grid() \n",
    "\n",
    "plt.xlabel(\"$\\phi$\", fontsize=15)\n",
    "plt.ylabel(\"E, GHz\", fontsize=15)\n",
    "\n"
   ]
  },
  {
   "cell_type": "markdown",
   "metadata": {},
   "source": [
    "\n",
    "https://en.wikipedia.org/wiki/Avoided_crossing"
   ]
  },
  {
   "cell_type": "markdown",
   "metadata": {},
   "source": [
    "### BTW Мини-введение в передающие линии"
   ]
  },
  {
   "cell_type": "markdown",
   "metadata": {},
   "source": [
    "Z0 = sqrt(Ll/Cl) = 50 Ohm\n",
    "f = 1/(4*l*sqrt(Ll*Cl))\n",
    "\n",
    "C = l*Cl/2\n",
    "f = 1/(2*pi*sqrt(LC))\n"
   ]
  },
  {
   "cell_type": "markdown",
   "metadata": {},
   "source": [
    "Далее работаем вблизи точки $\\phi = \\pi$"
   ]
  },
  {
   "cell_type": "markdown",
   "metadata": {},
   "source": [
    "-----"
   ]
  },
  {
   "cell_type": "markdown",
   "metadata": {},
   "source": [
    "# Часть 2:  $U^\\dagger Q_q U$  "
   ]
  },
  {
   "cell_type": "markdown",
   "metadata": {},
   "source": [
    "find \n",
    "* $\\langle q=0, r=0|U^\\dagger Q_q U  |q=0, r=1 \\rangle$ \n",
    "* $\\langle q=1, r=0|U^\\dagger Q_q U  |q=1, r=1 \\rangle$ \n"
   ]
  },
  {
   "cell_type": "code",
   "execution_count": 143,
   "metadata": {},
   "outputs": [],
   "source": [
    "Cq  = 60e-6\n",
    "Cg  = 15e-6\n",
    "Cr  = 250e-6\n",
    "\n",
    "EJ  = 2.3\n",
    "ELq = 1.1/2\n",
    "ELr = 2.5  \n",
    "\n",
    "φx  = np.pi  \n",
    "# φx  = np.pi / 2 \n",
    "\n",
    "\n",
    "nq  = 2\n",
    "nr  = 2 \n"
   ]
  },
  {
   "cell_type": "code",
   "execution_count": 144,
   "metadata": {},
   "outputs": [],
   "source": [
    "H, seed_q, seed_r = circuit_hamiltonian(\n",
    "                        Cq=Cq, \n",
    "                        Cg=Cg, \n",
    "                        Cr=Cr, \n",
    "                        EJ=EJ, \n",
    "                        ELq=ELq, \n",
    "                        ELr=ELr, \n",
    "                        φx=φx, \n",
    "                        nq=nq, \n",
    "                        nr=nr)\n",
    "\n"
   ]
  },
  {
   "cell_type": "code",
   "execution_count": null,
   "metadata": {},
   "outputs": [],
   "source": []
  },
  {
   "cell_type": "code",
   "execution_count": 145,
   "metadata": {},
   "outputs": [
    {
     "data": {
      "text/plain": [
       "<matplotlib.axes._subplots.AxesSubplot at 0x7fcbf6c9da90>"
      ]
     },
     "execution_count": 145,
     "metadata": {},
     "output_type": "execute_result"
    },
    {
     "data": {
      "image/png": "[encoded data removed]",
      "text/plain": [
       "<Figure size 432x288 with 2 Axes>"
      ]
     },
     "metadata": {
      "image/png": {
       "height": 250,
       "width": 355
      },
      "needs_background": "light"
     },
     "output_type": "display_data"
    }
   ],
   "source": [
    "sns.heatmap(np.real(np.array(H)), annot=True)\n"
   ]
  },
  {
   "cell_type": "code",
   "execution_count": 146,
   "metadata": {},
   "outputs": [
    {
     "data": {
      "image/png": "[encoded data removed]",
      "text/plain": [
       "<Figure size 432x288 with 1 Axes>"
      ]
     },
     "metadata": {
      "image/png": {
       "height": 250,
       "width": 380
      },
      "needs_background": "light"
     },
     "output_type": "display_data"
    }
   ],
   "source": [
    "En = H.eigenenergies()\n",
    "for each in En:\n",
    "    plt.axhline(y=each, color='r', linestyle='-')\n",
    "\n",
    "\n"
   ]
  },
  {
   "cell_type": "code",
   "execution_count": 147,
   "metadata": {},
   "outputs": [
    {
     "data": {
      "text/plain": [
       "(array([-6.56454838e-04,  3.44487462e-01,  1.72066254e+00,  2.06580645e+00]),\n",
       " array([Quantum object: dims = [[2, 2], [1, 1]], shape = (4, 1), type = ket\n",
       " Qobj data =\n",
       " [[ 0.99984115]\n",
       "  [ 0.        ]\n",
       "  [ 0.        ]\n",
       "  [-0.01782332]],\n",
       "        Quantum object: dims = [[2, 2], [1, 1]], shape = (4, 1), type = ket\n",
       " Qobj data =\n",
       " [[0.        ]\n",
       "  [0.02676882]\n",
       "  [0.99964165]\n",
       "  [0.        ]],\n",
       "        Quantum object: dims = [[2, 2], [1, 1]], shape = (4, 1), type = ket\n",
       " Qobj data =\n",
       " [[ 0.        ]\n",
       "  [ 0.99964165]\n",
       "  [-0.02676882]\n",
       "  [ 0.        ]],\n",
       "        Quantum object: dims = [[2, 2], [1, 1]], shape = (4, 1), type = ket\n",
       " Qobj data =\n",
       " [[0.01782332]\n",
       "  [0.        ]\n",
       "  [0.        ]\n",
       "  [0.99984115]]], dtype=object))"
      ]
     },
     "execution_count": 147,
     "metadata": {},
     "output_type": "execute_result"
    }
   ],
   "source": [
    "H.eigenstates()"
   ]
  },
  {
   "cell_type": "code",
   "execution_count": 148,
   "metadata": {},
   "outputs": [
    {
     "data": {
      "text/plain": [
       "<matplotlib.colorbar.Colorbar at 0x7fcbf61d9b00>"
      ]
     },
     "execution_count": 148,
     "metadata": {},
     "output_type": "execute_result"
    },
    {
     "data": {
      "image/png": "[encoded data removed]",
      "text/plain": [
       "<Figure size 432x288 with 5 Axes>"
      ]
     },
     "metadata": {
      "image/png": {
       "height": 279,
       "width": 449
      },
      "needs_background": "light"
     },
     "output_type": "display_data"
    }
   ],
   "source": [
    "En = H.eigenenergies()\n",
    "\n",
    "images = []\n",
    "\n",
    "fig, axs = plt.subplots(1, nq*nr)\n",
    "for i in range (nq * nr):\n",
    "    data = np.real(np.array(H.eigenstates()[1][i])).reshape(nr*nq, 1)\n",
    "\n",
    "    im = axs[i].imshow(data)\n",
    "    images.append(im)\n",
    "    axs[i].set_title(r\"$E_{}$={}\".format(i, np.around(En[i], decimals=2 )))\n",
    "\n",
    "vmin = min(image.get_array().min() for image in images)\n",
    "vmax = max(image.get_array().max() for image in images)\n",
    "norm = colors.Normalize(vmin=vmin, vmax=vmax)\n",
    "\n",
    "for im in images:\n",
    "    im.set_norm(norm)\n",
    "plt.tight_layout()\n",
    "\n",
    "fig.colorbar(im)  \n",
    "\n"
   ]
  },
  {
   "cell_type": "markdown",
   "metadata": {},
   "source": [
    "Нахождение матрицы перехода:"
   ]
  },
  {
   "cell_type": "code",
   "execution_count": 149,
   "metadata": {},
   "outputs": [],
   "source": [
    "H_numpy = np.real(np.array(H))"
   ]
  },
  {
   "cell_type": "code",
   "execution_count": 150,
   "metadata": {},
   "outputs": [],
   "source": [
    "_, eigenstates = np.linalg.eigh(H_numpy)\n"
   ]
  },
  {
   "cell_type": "code",
   "execution_count": 151,
   "metadata": {},
   "outputs": [
    {
     "data": {
      "text/plain": [
       "array([[-6.56454838e-04,  0.00000000e+00,  0.00000000e+00,\n",
       "        -4.79497942e-18],\n",
       "       [ 0.00000000e+00,  3.44487462e-01, -9.04771975e-18,\n",
       "         0.00000000e+00],\n",
       "       [ 0.00000000e+00, -5.93416481e-18,  1.72066254e+00,\n",
       "         0.00000000e+00],\n",
       "       [ 5.22573778e-18,  0.00000000e+00,  0.00000000e+00,\n",
       "         2.06580645e+00]])"
      ]
     },
     "execution_count": 151,
     "metadata": {},
     "output_type": "execute_result"
    }
   ],
   "source": [
    "np.linalg.inv(eigenstates) @ H_numpy @ eigenstates"
   ]
  },
  {
   "cell_type": "code",
   "execution_count": 152,
   "metadata": {},
   "outputs": [],
   "source": [
    "S = eigenstates"
   ]
  },
  {
   "cell_type": "code",
   "execution_count": 153,
   "metadata": {},
   "outputs": [
    {
     "data": {
      "text/plain": [
       "array([[-6.56454838e-04,  0.00000000e+00,  0.00000000e+00,\n",
       "        -4.79497942e-18],\n",
       "       [ 0.00000000e+00,  3.44487462e-01,  8.63110072e-19,\n",
       "         0.00000000e+00],\n",
       "       [ 0.00000000e+00,  7.93616336e-18,  1.72066254e+00,\n",
       "         0.00000000e+00],\n",
       "       [ 5.22573778e-18,  0.00000000e+00,  0.00000000e+00,\n",
       "         2.06580645e+00]])"
      ]
     },
     "execution_count": 153,
     "metadata": {},
     "output_type": "execute_result"
    }
   ],
   "source": [
    "S.T @ H_numpy @ S"
   ]
  },
  {
   "cell_type": "markdown",
   "metadata": {},
   "source": [
    "Нахождение матрицы заряда: "
   ]
  },
  {
   "cell_type": "code",
   "execution_count": 154,
   "metadata": {},
   "outputs": [],
   "source": [
    "def calculate_charge(Cq, Cg, Cr, EJ, ELq, ELr, φx, nq, nr, \n",
    "                        seed_q=None, seed_r=None):\n",
    "    \"\"\"\n",
    "    nq -- число состояний кубита \n",
    "    nr -- число состояний резонатора \n",
    "    φx -- поток, измеряется в радианах\n",
    "    \"\"\"\n",
    "    \n",
    "    csubs = {C_q:Cq, C_g:Cg, C_r:Cr} \n",
    "    \n",
    "    ECq = C_inv[0, 0].evalf(6, csubs) * e**2 / (2 * h)\n",
    "    ECr = C_inv[1, 1].evalf(6, csubs) * e**2 / (2 * h) \n",
    "    \n",
    "    Eq, Nq, seed_q = calculate_fluxonium(EJ, ECq, ELq, φx, num_states=nq, seed=seed_q)\n",
    "    Er, Nr, seed_r = calculate_fluxonium( 0, ECr, ELr,  0, num_states=nr, seed=seed_r)\n",
    "    \n",
    "    \n",
    "    Hq_ = qutip.Qobj(np.diag(Eq-np.min(Eq)), dims=[[nq], [nq]])\n",
    "    Hr_ = qutip.Qobj(np.diag(Er-np.min(Er)), dims=[[nr], [nr]])\n",
    "    \n",
    "    Nq_ = qutip.Qobj(Nq, dims=[[nq], [nq]])\n",
    "    Nr_ = qutip.Qobj(Nr, dims=[[nr], [nr]])\n",
    "    \n",
    "    \n",
    "    Hq = qutip.tensor(Hq_, qutip.identity(nr))\n",
    "    Hr = qutip.tensor(qutip.identity(nq), Hr_)\n",
    "    \n",
    "    Nq = qutip.tensor(Nq_, qutip.identity(nr))\n",
    "    Nr = qutip.tensor(qutip.identity(nq), Nr_)\n",
    "    \n",
    "    H0 = Hq + Hr  \n",
    "    \n",
    "\n",
    "    V =  float(C_inv[0, 1].evalf(6, csubs) * (2*e)**2 / h)  * Nq * Nr \n",
    "    \n",
    "    V.dims = H0.dims\n",
    "    \n",
    "    H = H0 + V \n",
    "    \n",
    "    \n",
    "    \n",
    "    return Nq, Nr\n",
    "    \n",
    "    \n",
    "    "
   ]
  },
  {
   "cell_type": "code",
   "execution_count": 155,
   "metadata": {},
   "outputs": [],
   "source": [
    "N_q, N_r  = calculate_charge(Cq=Cq, \n",
    "                   Cg=Cg, \n",
    "                   Cr=Cr, \n",
    "                   EJ=EJ, \n",
    "                   ELq=ELq, \n",
    "                   ELr=ELr, \n",
    "                   φx=φx, \n",
    "                   nq=nq, \n",
    "                   nr=nr)\n",
    "\n"
   ]
  },
  {
   "cell_type": "code",
   "execution_count": null,
   "metadata": {},
   "outputs": [],
   "source": []
  },
  {
   "cell_type": "code",
   "execution_count": 156,
   "metadata": {},
   "outputs": [
    {
     "data": {
      "text/latex": [
       "Quantum object: dims = [[2, 2], [2, 2]], shape = (4, 4), type = oper, isherm = True\\begin{equation*}\\left(\\begin{array}{*{11}c}0.0 & 0.0 & -0.258j & 0.0\\\\0.0 & 0.0 & 0.0 & -0.258j\\\\0.258j & 0.0 & 0.0 & 0.0\\\\0.0 & 0.258j & 0.0 & 0.0\\\\\\end{array}\\right)\\end{equation*}"
      ],
      "text/plain": [
       "Quantum object: dims = [[2, 2], [2, 2]], shape = (4, 4), type = oper, isherm = True\n",
       "Qobj data =\n",
       "[[0.+0.j        0.+0.j        0.-0.2581946j 0.+0.j       ]\n",
       " [0.+0.j        0.+0.j        0.+0.j        0.-0.2581946j]\n",
       " [0.+0.2581946j 0.+0.j        0.+0.j        0.+0.j       ]\n",
       " [0.+0.j        0.+0.2581946j 0.+0.j        0.+0.j       ]]"
      ]
     },
     "execution_count": 156,
     "metadata": {},
     "output_type": "execute_result"
    }
   ],
   "source": [
    "N_q"
   ]
  },
  {
   "cell_type": "markdown",
   "metadata": {},
   "source": [
    "### N_q_transformed = $U^\\dagger Q_q U$: "
   ]
  },
  {
   "cell_type": "code",
   "execution_count": 157,
   "metadata": {},
   "outputs": [
    {
     "data": {
      "text/plain": [
       "array([[0.+0.j        , 0.-0.25818427j, 0.+0.00231023j, 0.+0.j        ],\n",
       "       [0.+0.25818427j, 0.+0.j        , 0.+0.j        , 0.-0.00231023j],\n",
       "       [0.-0.00231023j, 0.+0.j        , 0.+0.j        , 0.-0.25818427j],\n",
       "       [0.+0.j        , 0.+0.00231023j, 0.+0.25818427j, 0.+0.j        ]])"
      ]
     },
     "execution_count": 157,
     "metadata": {},
     "output_type": "execute_result"
    }
   ],
   "source": [
    "S.T @ np.array(N_q) @ S"
   ]
  },
  {
   "cell_type": "code",
   "execution_count": 158,
   "metadata": {},
   "outputs": [
    {
     "data": {
      "text/latex": [
       "Quantum object: dims = [[4], [4]], shape = (4, 4), type = oper, isherm = True\\begin{equation*}\\left(\\begin{array}{*{11}c}0.0 & -0.258j & 0.002j & 0.0\\\\0.258j & 0.0 & 0.0 & -0.002j\\\\-0.002j & 0.0 & 0.0 & -0.258j\\\\0.0 & 0.002j & 0.258j & 0.0\\\\\\end{array}\\right)\\end{equation*}"
      ],
      "text/plain": [
       "Quantum object: dims = [[4], [4]], shape = (4, 4), type = oper, isherm = True\n",
       "Qobj data =\n",
       "[[0.+0.j         0.-0.25818427j 0.+0.00231023j 0.+0.j        ]\n",
       " [0.+0.25818427j 0.+0.j         0.+0.j         0.-0.00231023j]\n",
       " [0.-0.00231023j 0.+0.j         0.+0.j         0.-0.25818427j]\n",
       " [0.+0.j         0.+0.00231023j 0.+0.25818427j 0.+0.j        ]]"
      ]
     },
     "execution_count": 158,
     "metadata": {},
     "output_type": "execute_result"
    }
   ],
   "source": [
    "N_q_transformed = qutip.Qobj(S.T @ np.array(N_q) @ S)\n",
    "N_q_transformed\n"
   ]
  },
  {
   "cell_type": "code",
   "execution_count": 170,
   "metadata": {},
   "outputs": [
    {
     "data": {
      "text/plain": [
       "-0.258184266362699j"
      ]
     },
     "execution_count": 170,
     "metadata": {},
     "output_type": "execute_result"
    }
   ],
   "source": [
    "np.array([1, 0, 0, 0]).T @  np.array(N_q_transformed) @ np.array([0, 1, 0, 0])"
   ]
  },
  {
   "cell_type": "code",
   "execution_count": 171,
   "metadata": {},
   "outputs": [
    {
     "data": {
      "text/plain": [
       "0.2581842663626989j"
      ]
     },
     "execution_count": 171,
     "metadata": {},
     "output_type": "execute_result"
    }
   ],
   "source": [
    "np.array([0, 1, 0, 0]).T @  np.array(N_q_transformed) @ np.array([1, 0, 0, 0])"
   ]
  },
  {
   "cell_type": "code",
   "execution_count": 172,
   "metadata": {},
   "outputs": [
    {
     "data": {
      "text/plain": [
       "0.258184266362699j"
      ]
     },
     "execution_count": 172,
     "metadata": {},
     "output_type": "execute_result"
    }
   ],
   "source": [
    "np.array([0, 0, 0, 1]).T @  np.array(N_q_transformed) @ np.array([0, 0, 1, 0])"
   ]
  },
  {
   "cell_type": "markdown",
   "metadata": {},
   "source": [
    "ИИИИииии..."
   ]
  },
  {
   "cell_type": "code",
   "execution_count": 167,
   "metadata": {},
   "outputs": [],
   "source": [
    "ψ00 = H.eigenstates()[1][0]\n",
    "ψ01 = H.eigenstates()[1][2]  \n",
    "ψ10 = H.eigenstates()[1][1] \n",
    "ψ11 = H.eigenstates()[1][3]\n",
    "\n",
    "\n",
    "# ψ00 = H.eigenstates()[1][0]\n",
    "# ψ01 = H.eigenstates()[1][1]  \n",
    "# ψ10 = H.eigenstates()[1][2] \n",
    "# ψ11 = H.eigenstates()[1][3]\n",
    "\n",
    "\n"
   ]
  },
  {
   "cell_type": "code",
   "execution_count": 168,
   "metadata": {},
   "outputs": [
    {
     "data": {
      "text/plain": [
       "array([[0.25803056]])"
      ]
     },
     "execution_count": 168,
     "metadata": {},
     "output_type": "execute_result"
    }
   ],
   "source": [
    "np.imag(np.array(ψ01.dag()) @  np.array(N_q_transformed) @ np.array(ψ00))\n"
   ]
  },
  {
   "cell_type": "code",
   "execution_count": 169,
   "metadata": {},
   "outputs": [
    {
     "data": {
      "text/plain": [
       "array([[-0.25803056]])"
      ]
     },
     "execution_count": 169,
     "metadata": {},
     "output_type": "execute_result"
    }
   ],
   "source": [
    "np.imag(np.array(ψ10.dag()) @  np.array(N_q_transformed) @ np.array(ψ11))\n",
    "\n"
   ]
  },
  {
   "cell_type": "markdown",
   "metadata": {},
   "source": [
    "----"
   ]
  },
  {
   "cell_type": "markdown",
   "metadata": {},
   "source": [
    "### SHIT"
   ]
  },
  {
   "cell_type": "code",
   "execution_count": 728,
   "metadata": {},
   "outputs": [
    {
     "data": {
      "text/plain": [
       "array([[-5.89805982e-17]])"
      ]
     },
     "execution_count": 728,
     "metadata": {},
     "output_type": "execute_result"
    }
   ],
   "source": [
    "np.imag(np.array(ψ10.dag()) @  np.array(N_q_transformed) @ np.array(ψ11))\n"
   ]
  },
  {
   "cell_type": "code",
   "execution_count": 729,
   "metadata": {},
   "outputs": [
    {
     "data": {
      "text/plain": [
       "array([[2.77555756e-17]])"
      ]
     },
     "execution_count": 729,
     "metadata": {},
     "output_type": "execute_result"
    }
   ],
   "source": [
    "np.imag(np.array(ψ11.dag()) @  np.array(N_q_transformed) @ np.array(ψ10))\n",
    "\n"
   ]
  },
  {
   "cell_type": "code",
   "execution_count": 770,
   "metadata": {},
   "outputs": [
    {
     "data": {
      "text/latex": [
       "Quantum object: dims = [[4], [4]], shape = (4, 4), type = oper, isherm = True\\begin{equation*}\\left(\\begin{array}{*{11}c}0.0 & -0.128j & -0.760j & 0.0\\\\0.128j & 0.0 & 0.0 & -0.760j\\\\0.760j & 0.0 & 0.0 & 0.128j\\\\0.0 & 0.760j & -0.128j & 0.0\\\\\\end{array}\\right)\\end{equation*}"
      ],
      "text/plain": [
       "Quantum object: dims = [[4], [4]], shape = (4, 4), type = oper, isherm = True\n",
       "Qobj data =\n",
       "[[0.+0.j         0.-0.12756796j 0.-0.75975586j 0.+0.j        ]\n",
       " [0.+0.12756796j 0.+0.j         0.+0.j         0.-0.75975586j]\n",
       " [0.+0.75975586j 0.+0.j         0.+0.j         0.+0.12756796j]\n",
       " [0.+0.j         0.+0.75975586j 0.-0.12756796j 0.+0.j        ]]"
      ]
     },
     "execution_count": 770,
     "metadata": {},
     "output_type": "execute_result"
    }
   ],
   "source": [
    "N_q_transformed "
   ]
  },
  {
   "cell_type": "code",
   "execution_count": 771,
   "metadata": {},
   "outputs": [
    {
     "data": {
      "text/plain": [
       "array([[0.+0.j        , 0.-0.12756796j, 0.-0.75975586j, 0.+0.j        ],\n",
       "       [0.+0.12756796j, 0.+0.j        , 0.+0.j        , 0.-0.75975586j],\n",
       "       [0.+0.75975586j, 0.+0.j        , 0.+0.j        , 0.+0.12756796j],\n",
       "       [0.+0.j        , 0.+0.75975586j, 0.-0.12756796j, 0.+0.j        ]])"
      ]
     },
     "execution_count": 771,
     "metadata": {},
     "output_type": "execute_result"
    }
   ],
   "source": [
    "np.array(N_q_transformed)"
   ]
  },
  {
   "cell_type": "code",
   "execution_count": 789,
   "metadata": {},
   "outputs": [
    {
     "data": {
      "text/plain": [
       "-0.12756796191266423j"
      ]
     },
     "execution_count": 789,
     "metadata": {},
     "output_type": "execute_result"
    }
   ],
   "source": [
    "np.array([1, 0, 0, 0]).T @ np.array(N_q_transformed) @ np.array([0, 1, 0, 0])"
   ]
  },
  {
   "cell_type": "code",
   "execution_count": 793,
   "metadata": {},
   "outputs": [
    {
     "data": {
      "text/plain": [
       "array([[0.+1.11022302e-16j]])"
      ]
     },
     "execution_count": 793,
     "metadata": {},
     "output_type": "execute_result"
    }
   ],
   "source": [
    "np.array(ψ00).T @ np.array(N_q_transformed) @ np.array(ψ01)"
   ]
  },
  {
   "cell_type": "code",
   "execution_count": 799,
   "metadata": {},
   "outputs": [
    {
     "data": {
      "text/plain": [
       "array([[ 0.        +0.j],\n",
       "       [ 0.99018372+0.j],\n",
       "       [-0.13977197+0.j],\n",
       "       [ 0.        +0.j]])"
      ]
     },
     "execution_count": 799,
     "metadata": {},
     "output_type": "execute_result"
    }
   ],
   "source": [
    "np.array(ψ01)"
   ]
  },
  {
   "cell_type": "code",
   "execution_count": 798,
   "metadata": {},
   "outputs": [
    {
     "data": {
      "text/plain": [
       "array([[0.+0.77039117j]])"
      ]
     },
     "execution_count": 798,
     "metadata": {},
     "output_type": "execute_result"
    }
   ],
   "source": [
    "np.array([[0.        +0.j],\n",
    "       [0.13977197+0.j],\n",
    "       [0.99018372+0.j],\n",
    "       [0.        +0.j]]).T \n",
    "@ np.array([[0.+0.j        , 0.-0.12756796j, 0.-0.75975586j, 0.+0.j        ],\n",
    "       [0.+0.12756796j, 0.+0.j        , 0.+0.j        , 0.-0.75975586j],\n",
    "       [0.+0.75975586j, 0.+0.j        , 0.+0.j        , 0.+0.12756796j],\n",
    "       [0.+0.j        , 0.+0.75975586j, 0.-0.12756796j, 0.+0.j        ]]) \n",
    "@ np.array([[0.9996588 +0.j],\n",
    "       [0.        +0.j],\n",
    "       [0.        +0.j],\n",
    "       [0.02612069+0.j]])"
   ]
  },
  {
   "cell_type": "code",
   "execution_count": 812,
   "metadata": {},
   "outputs": [],
   "source": [
    "ψ00_np = np.array(ψ00) \n",
    "ψ01_np = np.array(ψ01)\n",
    "ψ10_np = np.array(ψ10) \n",
    "ψ11_np = np.array(ψ11) \n",
    "\n"
   ]
  },
  {
   "cell_type": "code",
   "execution_count": 804,
   "metadata": {},
   "outputs": [
    {
     "data": {
      "text/plain": [
       "array([[0.-5.89805982e-17j]])"
      ]
     },
     "execution_count": 804,
     "metadata": {},
     "output_type": "execute_result"
    }
   ],
   "source": [
    "ψ10_np.T @ np.array(N_q_transformed)  @ ψ11_np"
   ]
  },
  {
   "cell_type": "code",
   "execution_count": 808,
   "metadata": {},
   "outputs": [
    {
     "data": {
      "text/plain": [
       "array([[0.9996588 , 0.        , 0.        , 0.02612069]])"
      ]
     },
     "execution_count": 808,
     "metadata": {},
     "output_type": "execute_result"
    }
   ],
   "source": [
    "np.real(ψ00_np.T) "
   ]
  },
  {
   "cell_type": "code",
   "execution_count": 805,
   "metadata": {},
   "outputs": [
    {
     "data": {
      "text/plain": [
       "array([[ True, False, False,  True],\n",
       "       [False,  True,  True, False],\n",
       "       [False,  True,  True, False],\n",
       "       [ True, False, False,  True]])"
      ]
     },
     "execution_count": 805,
     "metadata": {},
     "output_type": "execute_result"
    }
   ],
   "source": [
    "np.array(N_q_transformed) == np.array([[0.+0.j        , 0.-0.12756796j, 0.-0.75975586j, 0.+0.j        ],\n",
    "       [0.+0.12756796j, 0.+0.j        , 0.+0.j        , 0.-0.75975586j],\n",
    "       [0.+0.75975586j, 0.+0.j        , 0.+0.j        , 0.+0.12756796j],\n",
    "       [0.+0.j        , 0.+0.75975586j, 0.-0.12756796j, 0.+0.j        ]])"
   ]
  },
  {
   "cell_type": "code",
   "execution_count": 806,
   "metadata": {},
   "outputs": [
    {
     "data": {
      "text/plain": [
       "array([[0.+0.j        , 0.-0.12756796j, 0.-0.75975586j, 0.+0.j        ],\n",
       "       [0.+0.12756796j, 0.+0.j        , 0.+0.j        , 0.-0.75975586j],\n",
       "       [0.+0.75975586j, 0.+0.j        , 0.+0.j        , 0.+0.12756796j],\n",
       "       [0.+0.j        , 0.+0.75975586j, 0.-0.12756796j, 0.+0.j        ]])"
      ]
     },
     "execution_count": 806,
     "metadata": {},
     "output_type": "execute_result"
    }
   ],
   "source": [
    "np.array([[0.+0.j        , 0.-0.12756796j, 0.-0.75975586j, 0.+0.j        ],\n",
    "       [0.+0.12756796j, 0.+0.j        , 0.+0.j        , 0.-0.75975586j],\n",
    "       [0.+0.75975586j, 0.+0.j        , 0.+0.j        , 0.+0.12756796j],\n",
    "       [0.+0.j        , 0.+0.75975586j, 0.-0.12756796j, 0.+0.j        ]])  "
   ]
  },
  {
   "cell_type": "code",
   "execution_count": 807,
   "metadata": {},
   "outputs": [
    {
     "data": {
      "text/plain": [
       "array([[0.+0.j        , 0.-0.12756796j, 0.-0.75975586j, 0.+0.j        ],\n",
       "       [0.+0.12756796j, 0.+0.j        , 0.+0.j        , 0.-0.75975586j],\n",
       "       [0.+0.75975586j, 0.+0.j        , 0.+0.j        , 0.+0.12756796j],\n",
       "       [0.+0.j        , 0.+0.75975586j, 0.-0.12756796j, 0.+0.j        ]])"
      ]
     },
     "execution_count": 807,
     "metadata": {},
     "output_type": "execute_result"
    }
   ],
   "source": [
    "np.array(N_q_transformed) "
   ]
  },
  {
   "cell_type": "code",
   "execution_count": 811,
   "metadata": {},
   "outputs": [
    {
     "data": {
      "text/plain": [
       "array([[0.-2.60347945e-09j]])"
      ]
     },
     "execution_count": 811,
     "metadata": {},
     "output_type": "execute_result"
    }
   ],
   "source": [
    "np.real(ψ10_np.T) @ np.array([[0.+0.j        , 0.-0.12756796j, 0.-0.75975586j, 0.+0.j        ],\n",
    "       [0.+0.12756796j, 0.+0.j        , 0.+0.j        , 0.-0.75975586j],\n",
    "       [0.+0.75975586j, 0.+0.j        , 0.+0.j        , 0.+0.12756796j],\n",
    "       [0.+0.j        , 0.+0.75975586j, 0.-0.12756796j, 0.+0.j        ]]) @ np.real(ψ11_np)\n",
    "\n",
    "\n",
    "\n",
    "\n",
    "\n"
   ]
  },
  {
   "cell_type": "code",
   "execution_count": 813,
   "metadata": {},
   "outputs": [
    {
     "data": {
      "text/plain": [
       "array([[0.9996588 , 0.        , 0.        , 0.02612069]])"
      ]
     },
     "execution_count": 813,
     "metadata": {},
     "output_type": "execute_result"
    }
   ],
   "source": [
    "np.real(ψ00_np.T) "
   ]
  },
  {
   "cell_type": "markdown",
   "metadata": {},
   "source": [
    "-----"
   ]
  },
  {
   "cell_type": "code",
   "execution_count": 817,
   "metadata": {},
   "outputs": [
    {
     "data": {
      "text/plain": [
       "array([[0.        +0.j],\n",
       "       [0.13977197+0.j],\n",
       "       [0.99018372+0.j],\n",
       "       [0.        +0.j]])"
      ]
     },
     "execution_count": 817,
     "metadata": {},
     "output_type": "execute_result"
    }
   ],
   "source": [
    "np.array(ψ10 )"
   ]
  },
  {
   "cell_type": "code",
   "execution_count": 818,
   "metadata": {},
   "outputs": [
    {
     "data": {
      "text/plain": [
       "array([[-0.02612069+0.j],\n",
       "       [ 0.        +0.j],\n",
       "       [ 0.        +0.j],\n",
       "       [ 0.9996588 +0.j]])"
      ]
     },
     "execution_count": 818,
     "metadata": {},
     "output_type": "execute_result"
    }
   ],
   "source": [
    "np.array(ψ11)"
   ]
  },
  {
   "cell_type": "code",
   "execution_count": 819,
   "metadata": {},
   "outputs": [
    {
     "data": {
      "text/plain": [
       "array([[0.+0.j        , 0.+0.j        , 0.+0.77039116j, 0.+0.j        ],\n",
       "       [0.+0.j        , 0.+0.j        , 0.+0.j        , 0.+0.77039116j],\n",
       "       [0.-0.77039116j, 0.+0.j        , 0.+0.j        , 0.+0.j        ],\n",
       "       [0.+0.j        , 0.-0.77039116j, 0.+0.j        , 0.+0.j        ]])"
      ]
     },
     "execution_count": 819,
     "metadata": {},
     "output_type": "execute_result"
    }
   ],
   "source": [
    "np.array(N_q)"
   ]
  },
  {
   "cell_type": "code",
   "execution_count": 823,
   "metadata": {},
   "outputs": [
    {
     "data": {
      "text/plain": [
       "array([[0.+0.75975586j]])"
      ]
     },
     "execution_count": 823,
     "metadata": {},
     "output_type": "execute_result"
    }
   ],
   "source": [
    "np.array(ψ01).T @ np.array(N_q) @ np.array(ψ11)"
   ]
  },
  {
   "cell_type": "code",
   "execution_count": 824,
   "metadata": {},
   "outputs": [
    {
     "data": {
      "text/plain": [
       "array([[0.-0.75975586j]])"
      ]
     },
     "execution_count": 824,
     "metadata": {},
     "output_type": "execute_result"
    }
   ],
   "source": [
    "np.array(ψ11).T @ np.array(N_q) @ np.array(ψ01)"
   ]
  },
  {
   "cell_type": "code",
   "execution_count": 822,
   "metadata": {},
   "outputs": [
    {
     "data": {
      "text/latex": [
       "Quantum object: dims = [[2, 2], [2, 2]], shape = (4, 4), type = oper, isherm = True\\begin{equation*}\\left(\\begin{array}{*{11}c}0.0 & 0.0 & 0.770j & 0.0\\\\0.0 & 0.0 & 0.0 & 0.770j\\\\-0.770j & 0.0 & 0.0 & 0.0\\\\0.0 & -0.770j & 0.0 & 0.0\\\\\\end{array}\\right)\\end{equation*}"
      ],
      "text/plain": [
       "Quantum object: dims = [[2, 2], [2, 2]], shape = (4, 4), type = oper, isherm = True\n",
       "Qobj data =\n",
       "[[0.+0.j         0.+0.j         0.+0.77039116j 0.+0.j        ]\n",
       " [0.+0.j         0.+0.j         0.+0.j         0.+0.77039116j]\n",
       " [0.-0.77039116j 0.+0.j         0.+0.j         0.+0.j        ]\n",
       " [0.+0.j         0.-0.77039116j 0.+0.j         0.+0.j        ]]"
      ]
     },
     "execution_count": 822,
     "metadata": {},
     "output_type": "execute_result"
    }
   ],
   "source": [
    "N_q "
   ]
  },
  {
   "cell_type": "code",
   "execution_count": 825,
   "metadata": {},
   "outputs": [
    {
     "data": {
      "text/plain": [
       "array([[0.+0.75975586j]])"
      ]
     },
     "execution_count": 825,
     "metadata": {},
     "output_type": "execute_result"
    }
   ],
   "source": [
    "np.array(ψ00).T @ np.array(N_q) @ np.array(ψ10)\n"
   ]
  },
  {
   "cell_type": "code",
   "execution_count": 826,
   "metadata": {},
   "outputs": [
    {
     "data": {
      "text/plain": [
       "array([[0.-0.75975586j]])"
      ]
     },
     "execution_count": 826,
     "metadata": {},
     "output_type": "execute_result"
    }
   ],
   "source": [
    "np.array(ψ11).T @ np.array(N_q) @ np.array(ψ01)\n"
   ]
  },
  {
   "cell_type": "code",
   "execution_count": null,
   "metadata": {},
   "outputs": [],
   "source": []
  }
 ],
 "metadata": {
  "hide_input": false,
  "kernelspec": {
   "display_name": "Python 3",
   "language": "python",
   "name": "python3"
  },
  "language_info": {
   "codemirror_mode": {
    "name": "ipython",
    "version": 3
   },
   "file_extension": ".py",
   "mimetype": "text/x-python",
   "name": "python",
   "nbconvert_exporter": "python",
   "pygments_lexer": "ipython3",
   "version": "3.6.7"
  },
  "latex_envs": {
   "LaTeX_envs_menu_present": true,
   "autoclose": false,
   "autocomplete": true,
   "bibliofile": "biblio.bib",
   "cite_by": "apalike",
   "current_citInitial": 1,
   "eqLabelWithNumbers": true,
   "eqNumInitial": 1,
   "hotkeys": {
    "equation": "Ctrl-E",
    "itemize": "Ctrl-I"
   },
   "labels_anchors": false,
   "latex_user_defs": false,
   "report_style_numbering": false,
   "user_envs_cfg": false
  }
 },
 "nbformat": 4,
 "nbformat_minor": 4
}
